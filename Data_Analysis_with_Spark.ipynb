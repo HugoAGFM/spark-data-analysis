{
  "nbformat": 4,
  "nbformat_minor": 0,
  "metadata": {
    "colab": {
      "provenance": [],
      "toc_visible": true,
      "authorship_tag": "ABX9TyNhjU37FxOHevE0Jcw5k+mV",
      "include_colab_link": true
    },
    "kernelspec": {
      "name": "python3",
      "display_name": "Python 3"
    },
    "language_info": {
      "name": "python"
    }
  },
  "cells": [
    {
      "cell_type": "markdown",
      "metadata": {
        "id": "view-in-github",
        "colab_type": "text"
      },
      "source": [
        "<a href=\"https://colab.research.google.com/github/HugoAGFM/spark-data-analysis/blob/main/Data_Analysis_with_Spark.ipynb\" target=\"_parent\"><img src=\"https://colab.research.google.com/assets/colab-badge.svg\" alt=\"Open In Colab\"/></a>"
      ]
    },
    {
      "cell_type": "markdown",
      "source": [
        "# Brazil Highway Traffic Accidents Data Analysis Using Spark"
      ],
      "metadata": {
        "id": "pcIR-QDC0oeW"
      }
    },
    {
      "cell_type": "markdown",
      "source": [
        "## Introduction\n",
        "\n",
        "This work proposes to briefly analyze a dataset containing Brazil highway traffic accidents data using Apache Spark. This is a continuation of a [data analysis using Apache Hive](https://github.com/HugoAGFM/hive_data_analysis), mainly focused on comparing both tools."
      ],
      "metadata": {
        "id": "j-YYFzW-1Ez3"
      }
    },
    {
      "cell_type": "markdown",
      "source": [
        "## About Dataset\n",
        "\n",
        "The dataset under analysis is available in [kaggle](https://www.kaggle.com/datasets/mcamera/brazil-highway-traffic-accidents) and contains data from Brazil's federal higways between 2007 and 2021 at various levels of granularity.\n",
        "\n",
        "The level of granularity chosen was 'accidents per person', and, because there's been  a change in the system used to record these data in 2017, this analysis will be restricted to the period of 2017 to 2021. The files are available [here](https://drive.google.com/drive/u/0/folders/1ue0XT3qt7dknBmV_oykird_6O2Rld723)\n"
      ],
      "metadata": {
        "id": "kHRXLK_g3aCl"
      }
    },
    {
      "cell_type": "markdown",
      "source": [
        "### Columns description\n",
        "\n",
        "Below you can find the columns present in the dataset with a brief description, and how they've been mapped to each table in the data model.\n",
        "\n",
        "| Coloumn                | Description                                                 | Table             |\n",
        "| :--------------------- | :---------------------------------------------------------- | :---------------- |\n",
        "| id                     | ID of accident                                              | Accidents         |\n",
        "| data_inversa           | Date when accident hapened                                  | Accidents         |\n",
        "| dia_semana             | Weekday when accident happened                              | Accidents         |\n",
        "| horario                | Time when accident happened                                 | Accidents         |\n",
        "| uf                     | Federal Unit where accident happened                        | Accidents         |\n",
        "| br                     | Highway where accident happened                             | Accidents         |\n",
        "| km                     | Highway kilometer where accident happened                  | Accidents         |\n",
        "| municipio              | City where accident happened                                | Accidents         |\n",
        "| causa_acidente         | Accident cause                                              | Accidents         |\n",
        "| tipo_acidente          | Accident type                                               | Accidents         |\n",
        "| classificacao_acidente | Accident classification                                     | Accidents         |\n",
        "| fase_dia               | Pereiod of the day when  accident happened                  | Accidents         |\n",
        "| sentido_via            | Lane direction where accident happened                      | Accidents         |\n",
        "| condicao_metereologica | Weather condition when accident happened                    | Accidents         |\n",
        "| tipo_pista             | Lane type where accident happened                           | Accidents         |\n",
        "| tracado_via            | Lane layout where accident happened                         | Accidents         |\n",
        "| uso_solo               | If the vehicle left the lane in the accident                                   | Accidents         |\n",
        "| id_veiculo             | ID of vehicle involved in the accident                      | Accidents/Vehicle |\n",
        "| tipo_veiculo           | Type of the vehicle involved in the accident                | Vehicle           |\n",
        "| marca                  | Brand of the vehicle involved in the accident               | Vehicle           |\n",
        "| ano_fabricacao_veiculo | Year of manufacture of the vehicle involved in the accident | Vehicle           |\n",
        "| pesid                  | ID of person involved in the accident                       | Accidents/People  |\n",
        "| tipo_envolvido         | Type of person involved in the accident                     | People            |\n",
        "| estado_fisico          | Physical state of the person involved in the accident       | People            |\n",
        "| idade                  | Age of the person involved in the accident                  | People            |\n",
        "| sexo                   | Sex of the person involved in the accident                  | People            |"
      ],
      "metadata": {
        "id": "TXgZ6T5d3lkQ"
      }
    },
    {
      "cell_type": "markdown",
      "source": [
        "### Data model\n",
        "\n",
        "For the purpose of this work and following the instructions of the professor, the dataset was denormalized and modeled as three different tables as described below.\n",
        "\n",
        "| Table     | Description                                                                                                             |\n",
        "| :-------- | :---------------------------------------------------------------------------------------------------------------------- |\n",
        "| Accidents | Accidents records. Relates to table People through column 'pesid', and with table Vehicles through column 'id_veiculo'. |\n",
        "| People    | Information about the people involved in the accidents. Relates to the table Accidents through column 'pesid'.           |\n",
        "| Vehicles  | Information about the veicles involved in the accidents. Relates to the table Accidents thorugh column 'id_veiculo'.                                                |"
      ],
      "metadata": {
        "id": "uu-QroRX3oaf"
      }
    },
    {
      "cell_type": "markdown",
      "source": [
        "\n",
        "## Preparing Environment\n",
        "\n",
        "This session contains all the steps taken to prepare the analytical environment."
      ],
      "metadata": {
        "id": "pNfxOff5351x"
      }
    },
    {
      "cell_type": "markdown",
      "source": [
        "### Install pyspark"
      ],
      "metadata": {
        "id": "2-Djloil39Oi"
      }
    },
    {
      "cell_type": "code",
      "execution_count": 1,
      "metadata": {
        "colab": {
          "base_uri": "https://localhost:8080/"
        },
        "id": "E8ERz2f7ppTb",
        "outputId": "d8d98df7-3b27-4ad7-edb1-52922b5fc656"
      },
      "outputs": [
        {
          "output_type": "stream",
          "name": "stdout",
          "text": [
            "Collecting pyspark\n",
            "  Downloading pyspark-3.5.0.tar.gz (316.9 MB)\n",
            "\u001b[2K     \u001b[90m━━━━━━━━━━━━━━━━━━━━━━━━━━━━━━━━━━━━━━━\u001b[0m \u001b[32m316.9/316.9 MB\u001b[0m \u001b[31m3.0 MB/s\u001b[0m eta \u001b[36m0:00:00\u001b[0m\n",
            "\u001b[?25h  Preparing metadata (setup.py) ... \u001b[?25l\u001b[?25hdone\n",
            "Requirement already satisfied: py4j==0.10.9.7 in /usr/local/lib/python3.10/dist-packages (from pyspark) (0.10.9.7)\n",
            "Building wheels for collected packages: pyspark\n",
            "  Building wheel for pyspark (setup.py) ... \u001b[?25l\u001b[?25hdone\n",
            "  Created wheel for pyspark: filename=pyspark-3.5.0-py2.py3-none-any.whl size=317425344 sha256=578d653bbdc3f0580c106762a4cc16624698f72eea5b388bab4e5c9017720b75\n",
            "  Stored in directory: /root/.cache/pip/wheels/41/4e/10/c2cf2467f71c678cfc8a6b9ac9241e5e44a01940da8fbb17fc\n",
            "Successfully built pyspark\n",
            "Installing collected packages: pyspark\n",
            "Successfully installed pyspark-3.5.0\n"
          ]
        }
      ],
      "source": [
        "!pip install pyspark"
      ]
    },
    {
      "cell_type": "markdown",
      "source": [
        "### Mount Google Drive into Google Colab machine"
      ],
      "metadata": {
        "id": "sbstOzkc4Avd"
      }
    },
    {
      "cell_type": "code",
      "source": [
        "from google.colab import drive\n",
        "drive.mount('/content/drive')"
      ],
      "metadata": {
        "colab": {
          "base_uri": "https://localhost:8080/"
        },
        "id": "WV6hA5Alpva8",
        "outputId": "190d6b64-7492-4c6e-a293-47f455fdfd69"
      },
      "execution_count": 2,
      "outputs": [
        {
          "output_type": "stream",
          "name": "stdout",
          "text": [
            "Mounted at /content/drive\n"
          ]
        }
      ]
    },
    {
      "cell_type": "markdown",
      "source": [
        "### Import and instanciate Spark Session\n",
        "\n",
        "Spark Session consists of the entrypoint for the Spark SQL API. This work will run in a local environment."
      ],
      "metadata": {
        "id": "0Urzk_6r4py1"
      }
    },
    {
      "cell_type": "code",
      "source": [
        "from pyspark.sql import SparkSession"
      ],
      "metadata": {
        "id": "xLksEeRZp3I8"
      },
      "execution_count": 3,
      "outputs": []
    },
    {
      "cell_type": "code",
      "source": [
        "spark = SparkSession \\\n",
        "    .builder \\\n",
        "    .master(\"local[*]\") \\\n",
        "    .getOrCreate()"
      ],
      "metadata": {
        "id": "D_j_3mDzp5ws"
      },
      "execution_count": 4,
      "outputs": []
    },
    {
      "cell_type": "markdown",
      "source": [
        "## Data Analysis\n",
        "Creating a dataframe for each table described in the Data Model"
      ],
      "metadata": {
        "id": "LSYAqZBF5fyH"
      }
    },
    {
      "cell_type": "code",
      "source": [
        "df_people = spark.read \\\n",
        "  .options(delimiter=\";\") \\\n",
        "  .csv(\"/content/drive/MyDrive/traffic/people.csv\",\n",
        "       inferSchema=True,\n",
        "       header=True,\n",
        "       encoding=\"Latin1\")\n",
        "\n",
        "df_accidents = spark.read \\\n",
        "  .options(delimiter=\";\") \\\n",
        "  .csv(\"/content/drive/MyDrive/traffic/accidents.csv\",\n",
        "       inferSchema=True,\n",
        "       header=True,\n",
        "       encoding=\"Latin1\")\n",
        "\n",
        "df_vehicles = spark.read \\\n",
        "  .options(delimiter=\";\") \\\n",
        "  .csv(\"/content/drive/MyDrive/traffic/vehicles.csv\",\n",
        "       inferSchema=True,\n",
        "       header=True,\n",
        "       encoding=\"Latin1\")"
      ],
      "metadata": {
        "id": "tCZYhTXsp71V"
      },
      "execution_count": 5,
      "outputs": []
    },
    {
      "cell_type": "code",
      "source": [
        "from pyspark.sql.functions import when, col, count, sum, year, max"
      ],
      "metadata": {
        "id": "8OcnlfmXrDu_"
      },
      "execution_count": 6,
      "outputs": []
    },
    {
      "cell_type": "markdown",
      "source": [
        "### Does the number of people in the vehicle influence the occurrences of accidents where the driver sleeps?\n",
        "\n",
        "When compared to the total number of accidents per number of people in the vehicle, the ones where the driver sleeps are twice more common when there is only one person in the vehicle."
      ],
      "metadata": {
        "id": "PxVEycPHqU0O"
      }
    },
    {
      "cell_type": "code",
      "source": [
        "support_df = df_accidents.join(df_people, df_accidents.pesid == df_people.pesid) \\\n",
        "                         .where(\"tipo_envolvido in ('Passageiro', 'Condutor')\") \\\n",
        "                         .groupBy(\"id\", \"causa_acidente\") \\\n",
        "                         .count() \\\n",
        "                         .withColumn(\"num_people\", when(col(\"count\") > 1, \"Mais de uma\"). \\\n",
        "                                     otherwise(\"Apenas uma\"))"
      ],
      "metadata": {
        "id": "H320EV16tblt"
      },
      "execution_count": 7,
      "outputs": []
    },
    {
      "cell_type": "code",
      "source": [
        "support_df.show(10)"
      ],
      "metadata": {
        "colab": {
          "base_uri": "https://localhost:8080/"
        },
        "id": "HHs7WUXNsufa",
        "outputId": "e5610d18-98a3-45c4-8cf8-eae03abaddc1"
      },
      "execution_count": 8,
      "outputs": [
        {
          "output_type": "stream",
          "name": "stdout",
          "text": [
            "+----+--------------------+-----+-----------+\n",
            "|  id|      causa_acidente|count| num_people|\n",
            "+----+--------------------+-----+-----------+\n",
            "| 133|  Ingestão de Álcool|    2|Mais de uma|\n",
            "| 465|  Ingestão de Álcool|    6|Mais de uma|\n",
            "| 681|Desobediência às ...|    2|Mais de uma|\n",
            "| 698|Avarias e/ou desg...|    1| Apenas uma|\n",
            "|1326|Carga excessiva e...|    2|Mais de uma|\n",
            "|1849|  Ingestão de Álcool|    4|Mais de uma|\n",
            "|2745|Falta de Atenção ...|    1| Apenas uma|\n",
            "|2870|   Condutor Dormindo|    4|Mais de uma|\n",
            "|3158|Desobediência às ...|    2|Mais de uma|\n",
            "|3171|Velocidade Incomp...|    1| Apenas uma|\n",
            "+----+--------------------+-----+-----------+\n",
            "only showing top 10 rows\n",
            "\n"
          ]
        }
      ]
    },
    {
      "cell_type": "code",
      "source": [
        "final_df = support_df.withColumn(\"is_driver_sleeping\",\n",
        "                                 when(col(\"causa_acidente\") == \"Condutor Dormindo\", 1). \\\n",
        "                                 otherwise(0)) \\\n",
        "                     .groupBy(\"num_people\") \\\n",
        "                     .agg(sum(\"is_driver_sleeping\").alias(\"num_accidents_w_sleeping_drivers\"),\n",
        "                          count(\"id\").alias(\"total_num_accidents\")) \\\n",
        "                     .withColumn(\"rate\", col(\"num_accidents_w_sleeping_drivers\") / col(\"total_num_accidents\") * 100)"
      ],
      "metadata": {
        "id": "pYffFVabxraV"
      },
      "execution_count": 9,
      "outputs": []
    },
    {
      "cell_type": "code",
      "source": [
        "final_df.show()"
      ],
      "metadata": {
        "colab": {
          "base_uri": "https://localhost:8080/"
        },
        "id": "RraOtx9Axvcy",
        "outputId": "c085f819-6890-4d7c-b79f-93978f9d8272"
      },
      "execution_count": 10,
      "outputs": [
        {
          "output_type": "stream",
          "name": "stdout",
          "text": [
            "+-----------+--------------------------------+-------------------+-----------------+\n",
            "| num_people|num_accidents_w_sleeping_drivers|total_num_accidents|             rate|\n",
            "+-----------+--------------------------------+-------------------+-----------------+\n",
            "|Mais de uma|                            6111|             215042|2.841770444843333|\n",
            "| Apenas uma|                            5971|             105690|5.649541110795724|\n",
            "+-----------+--------------------------------+-------------------+-----------------+\n",
            "\n"
          ]
        }
      ]
    },
    {
      "cell_type": "markdown",
      "source": [
        "### What is the vehicle type with the highest driver death rate?\n",
        "\n",
        "Although the Quadricycle has the highest death rate, due to the low number of occurencies, it is possible to consider the Bicycle as the vehicle with highest death rate."
      ],
      "metadata": {
        "id": "2B5xYUrNt3SG"
      }
    },
    {
      "cell_type": "code",
      "source": [
        "support_df = df_accidents.join(df_people, df_accidents.pesid == df_people.pesid, \"left\") \\\n",
        "                         .join(df_vehicles, df_accidents.id_veiculo == df_vehicles.id_veiculo, \"left\") \\\n",
        "                         .where(\"tipo_envolvido = 'Condutor'\") \\\n",
        "                         .groupBy(\"tipo_veiculo\", \"estado_fisico\") \\\n",
        "                         .count()"
      ],
      "metadata": {
        "id": "10NHVY3u24P1"
      },
      "execution_count": 11,
      "outputs": []
    },
    {
      "cell_type": "code",
      "source": [
        "support_df.show(10)"
      ],
      "metadata": {
        "colab": {
          "base_uri": "https://localhost:8080/"
        },
        "id": "trglGeHIvBIM",
        "outputId": "d4433d42-eac5-44f8-c94d-00d5501ef056"
      },
      "execution_count": 12,
      "outputs": [
        {
          "output_type": "stream",
          "name": "stdout",
          "text": [
            "+----------------+-------------+-----+\n",
            "|    tipo_veiculo|estado_fisico|count|\n",
            "+----------------+-------------+-----+\n",
            "|          Outros|        Ileso|  528|\n",
            "|    Micro-ônibus|Lesões Graves|   89|\n",
            "| Caminhão-trator|Lesões Graves| 2298|\n",
            "| Trator de rodas| Lesões Leves|   42|\n",
            "|    Micro-ônibus|        Óbito|   26|\n",
            "|        Caminhão| Lesões Leves| 7155|\n",
            "|          Ônibus|        Óbito|   55|\n",
            "|          Ônibus|Não Informado|  195|\n",
            "|Carroça-charrete|Não Informado|   36|\n",
            "|     Semireboque|Lesões Graves|    9|\n",
            "+----------------+-------------+-----+\n",
            "only showing top 10 rows\n",
            "\n"
          ]
        }
      ]
    },
    {
      "cell_type": "code",
      "source": [
        "final_df = support_df.withColumn(\"num_deaths\",\n",
        "                                 when(col(\"estado_fisico\") == \"Óbito\", col(\"count\")). \\\n",
        "                                 otherwise(0)) \\\n",
        "                     .groupBy(\"tipo_veiculo\") \\\n",
        "                     .agg(sum(\"num_deaths\").alias(\"num_deaths\"),\n",
        "                          sum(\"count\").alias(\"total_drivers\")) \\\n",
        "                     .withColumn(\"death_rate\", col(\"num_deaths\") / col(\"total_drivers\") * 100) \\\n",
        "                     .orderBy(col(\"death_rate\").desc())"
      ],
      "metadata": {
        "id": "paTODYinwKFV"
      },
      "execution_count": 13,
      "outputs": []
    },
    {
      "cell_type": "code",
      "source": [
        "final_df.show()"
      ],
      "metadata": {
        "colab": {
          "base_uri": "https://localhost:8080/"
        },
        "id": "_Sjtd2t6yo-2",
        "outputId": "5a1dea1d-d4e0-42a7-8941-fd6eb57d5b90"
      },
      "execution_count": 14,
      "outputs": [
        {
          "output_type": "stream",
          "name": "stdout",
          "text": [
            "+----------------+----------+-------------+-------------------+\n",
            "|    tipo_veiculo|num_deaths|total_drivers|         death_rate|\n",
            "+----------------+----------+-------------+-------------------+\n",
            "|     Quadriciclo|         2|            9|  22.22222222222222|\n",
            "|       Bicicleta|       932|         8787| 10.606577899169228|\n",
            "|    Carro de mão|         2|           25|                8.0|\n",
            "|      Ciclomotor|       117|         1661|  7.043949428055388|\n",
            "|     Motocicleta|      5626|       107284|  5.244025204131091|\n",
            "|Carroça-charrete|        12|          257|  4.669260700389105|\n",
            "|        Motoneta|       391|        12580| 3.1081081081081083|\n",
            "| Trator de rodas|         8|          288| 2.7777777777777777|\n",
            "|        Caminhão|      1005|        44956|  2.235519174303764|\n",
            "|       Automóvel|      4332|       216772| 1.9984130791799681|\n",
            "|     Caminhonete|       933|        46863|  1.990909672876256|\n",
            "| Caminhão-trator|      1014|        55104| 1.8401567944250872|\n",
            "|        Triciclo|         1|           63| 1.5873015873015872|\n",
            "|       Camioneta|       163|        12222| 1.3336606120111274|\n",
            "|    Micro-ônibus|        26|         2509| 1.0362694300518136|\n",
            "|          Outros|        20|         2068| 0.9671179883945842|\n",
            "|      Utilitário|        52|         5420|  0.959409594095941|\n",
            "|          Ônibus|        55|         8080| 0.6806930693069307|\n",
            "|     Semireboque|         1|          678|0.14749262536873156|\n",
            "|    Trator misto|         0|           14|                0.0|\n",
            "+----------------+----------+-------------+-------------------+\n",
            "only showing top 20 rows\n",
            "\n"
          ]
        }
      ]
    },
    {
      "cell_type": "markdown",
      "source": [
        "### Which federal unit has the highest death rate by person involved in an accident?\n",
        "\n",
        "Maranhão is the State with the highest death rate per people involved in an accident. Beyond that, it is important to notice that mostly States from the North and Northeast regions are in the top of the list."
      ],
      "metadata": {
        "id": "Cy9k2BCn086Y"
      }
    },
    {
      "cell_type": "code",
      "source": [
        "final_df = df_accidents.join(df_people, df_accidents.pesid == df_people.pesid, \"left\") \\\n",
        "                       .withColumn(\"is_dead\",\n",
        "                                 when(col(\"estado_fisico\") == \"Óbito\", 1). \\\n",
        "                                 otherwise(0)) \\\n",
        "                       .groupBy(\"uf\") \\\n",
        "                       .agg(sum(\"is_dead\").alias(\"num_deaths\"),\n",
        "                            count(\"id\").alias(\"num_people\")) \\\n",
        "                       .withColumn(\"death_rate\", col(\"num_deaths\") / col(\"num_people\") * 100) \\\n",
        "                       .orderBy(col(\"death_rate\").desc())"
      ],
      "metadata": {
        "id": "xCD294Zn1Bi6"
      },
      "execution_count": 15,
      "outputs": []
    },
    {
      "cell_type": "code",
      "source": [
        "final_df.show()"
      ],
      "metadata": {
        "colab": {
          "base_uri": "https://localhost:8080/"
        },
        "id": "FPut__l42ZtY",
        "outputId": "a03c3525-eaf1-4ce8-9d07-91290fe363c8"
      },
      "execution_count": 16,
      "outputs": [
        {
          "output_type": "stream",
          "name": "stdout",
          "text": [
            "+---+----------+----------+------------------+\n",
            "| uf|num_deaths|num_people|        death_rate|\n",
            "+---+----------+----------+------------------+\n",
            "| MA|      1022|     14081| 7.258007243803707|\n",
            "| AL|       418|      7228| 5.783065855008301|\n",
            "| TO|       380|      6718| 5.656445370646026|\n",
            "| BA|      2284|     41653| 5.483398554725951|\n",
            "| PA|       647|     12424| 5.207662588538313|\n",
            "| PI|       728|     14081| 5.170087351750586|\n",
            "| AM|        70|      1446| 4.840940525587829|\n",
            "| PE|      1405|     29409|4.7774490802135405|\n",
            "| RR|       133|      2913| 4.565739787161002|\n",
            "| CE|       796|     17964| 4.431084391004231|\n",
            "| MT|       972|     25853| 3.759718407921711|\n",
            "| MS|       595|     17200|3.4593023255813953|\n",
            "| GO|      1298|     37623| 3.450017276665869|\n",
            "| PB|       557|     16383| 3.399865714460111|\n",
            "| RN|       485|     14380|3.3727399165507648|\n",
            "| SE|       211|      6432|3.2804726368159205|\n",
            "| MG|      3247|    100693|3.2246531536452383|\n",
            "| AC|        91|      2964| 3.070175438596491|\n",
            "| PR|      2406|     84137|  2.85962180729049|\n",
            "| AP|        54|      1925|2.8051948051948052|\n",
            "+---+----------+----------+------------------+\n",
            "only showing top 20 rows\n",
            "\n"
          ]
        }
      ]
    },
    {
      "cell_type": "markdown",
      "source": [
        "### What are the stages of the day where an accident involving someone in an altered mental stage is more likely to happen?\n",
        "\n",
        "When compared to the total number of accidents, the ones where someone is in an altered menthal state are more likely to happen during the night or dawn. It is important to notice that the occurences involve not only ingestion of alcohol, but other substances as well, and includes ingestion from drivers and pedestrians."
      ],
      "metadata": {
        "id": "99MBjQKc2t2k"
      }
    },
    {
      "cell_type": "code",
      "source": [
        "final_df = df_accidents.select(\"id\", \"fase_dia\", \"causa_acidente\") \\\n",
        "                       .distinct() \\\n",
        "                       .withColumn(\"is_altered_mental_state\",\n",
        "                                   when(col(\"causa_acidente\").like(\"Ingest%\"), 1). \\\n",
        "                                   otherwise(0)) \\\n",
        "                       .groupBy(\"fase_dia\") \\\n",
        "                       .agg(sum(\"is_altered_mental_state\").alias(\"num_accidents_w_altered_mental_state\"),\n",
        "                            count(\"id\").alias(\"total_num_accidents\")) \\\n",
        "                       .withColumn(\"accidents_rate\", col(\"num_accidents_w_altered_mental_state\") / col(\"total_num_accidents\") * 100) \\\n",
        "                       .orderBy(col(\"accidents_rate\").desc())"
      ],
      "metadata": {
        "id": "9r8IkPJT200A"
      },
      "execution_count": 17,
      "outputs": []
    },
    {
      "cell_type": "code",
      "source": [
        "final_df.show()"
      ],
      "metadata": {
        "colab": {
          "base_uri": "https://localhost:8080/"
        },
        "id": "4cOQHqXT6H8J",
        "outputId": "efbe4aac-3d28-4f5e-dda9-774c241cbe95"
      },
      "execution_count": 18,
      "outputs": [
        {
          "output_type": "stream",
          "name": "stdout",
          "text": [
            "+-----------+------------------------------------+-------------------+------------------+\n",
            "|   fase_dia|num_accidents_w_altered_mental_state|total_num_accidents|    accidents_rate|\n",
            "+-----------+------------------------------------+-------------------+------------------+\n",
            "|Plena Noite|                               16096|             111170| 14.47872627507421|\n",
            "|  Amanhecer|                                1500|              15588|  9.62278675904542|\n",
            "|  Anoitecer|                                1343|              17708| 7.584142760334313|\n",
            "|  Pleno dia|                                6965|             176269|3.9513470888244675|\n",
            "+-----------+------------------------------------+-------------------+------------------+\n",
            "\n"
          ]
        }
      ]
    },
    {
      "cell_type": "markdown",
      "source": [
        "### What is the highway with the highest number of accidents each year?\n",
        "\n",
        "The biggest highway in the Country, BR 101, is also the one with the highest number of accidents every year. It is important to notice that this number decreased throughout the years."
      ],
      "metadata": {
        "id": "_K5KzebV7irv"
      }
    },
    {
      "cell_type": "code",
      "source": [
        "accidents_by_road_df = df_accidents.withColumn(\"year\", year(\"data_inversa\")) \\\n",
        "                                   .select(\"id\", \"year\", \"br\", \"id_veiculo\") \\\n",
        "                                   .join(df_vehicles, df_accidents.id_veiculo == df_vehicles.id_veiculo, \"left\") \\\n",
        "                                   .where(\"tipo_veiculo = 'Automóvel'\") \\\n",
        "                                   .groupBy(\"year\", \"br\") \\\n",
        "                                   .count()\n",
        "\n",
        "max_accidents_by_road_df = accidents_by_road_df.groupBy(\"year\").agg(max(\"count\").alias(\"max_num_accidents\"))"
      ],
      "metadata": {
        "id": "9neq9OTH7q9L"
      },
      "execution_count": 19,
      "outputs": []
    },
    {
      "cell_type": "code",
      "source": [
        "accidents_by_road_df.show(10)"
      ],
      "metadata": {
        "colab": {
          "base_uri": "https://localhost:8080/"
        },
        "id": "5cNIM620_ZMd",
        "outputId": "6154d786-5cb9-49a2-ac14-9001db035a3d"
      },
      "execution_count": 20,
      "outputs": [
        {
          "output_type": "stream",
          "name": "stdout",
          "text": [
            "+----+---+-----+\n",
            "|year| br|count|\n",
            "+----+---+-----+\n",
            "|2017|423|  219|\n",
            "|2018|488|   41|\n",
            "|2018|428|  103|\n",
            "|2018|475|    3|\n",
            "|2017|104|  598|\n",
            "|2018| 70| 1095|\n",
            "|2018|451|    1|\n",
            "|2017| 20| 1359|\n",
            "|2018|435|   78|\n",
            "|2017|242|  452|\n",
            "+----+---+-----+\n",
            "only showing top 10 rows\n",
            "\n"
          ]
        }
      ]
    },
    {
      "cell_type": "code",
      "source": [
        "max_accidents_by_road_df.show()"
      ],
      "metadata": {
        "colab": {
          "base_uri": "https://localhost:8080/"
        },
        "id": "q8xNkOWg_o0u",
        "outputId": "c064b359-7c37-447f-8084-2be47daced89"
      },
      "execution_count": 21,
      "outputs": [
        {
          "output_type": "stream",
          "name": "stdout",
          "text": [
            "+----+-----------------+\n",
            "|year|max_num_accidents|\n",
            "+----+-----------------+\n",
            "|2018|            11505|\n",
            "|2019|            11348|\n",
            "|2020|            10563|\n",
            "|2017|            14832|\n",
            "|2021|             5454|\n",
            "+----+-----------------+\n",
            "\n"
          ]
        }
      ]
    },
    {
      "cell_type": "code",
      "source": [
        "df_final = max_accidents_by_road_df.join(accidents_by_road_df,\n",
        "                                         max_accidents_by_road_df[\"max_num_accidents\"] == accidents_by_road_df[\"count\"]) \\\n",
        "                                   .select(max_accidents_by_road_df[\"year\"], \"br\", \"max_num_accidents\") \\\n",
        "                                   .orderBy(col(\"year\"))"
      ],
      "metadata": {
        "id": "783N_KnwAZ9l"
      },
      "execution_count": 22,
      "outputs": []
    },
    {
      "cell_type": "code",
      "source": [
        "df_final.show()"
      ],
      "metadata": {
        "colab": {
          "base_uri": "https://localhost:8080/"
        },
        "id": "EPvAmgloB6Vz",
        "outputId": "19e3e625-9f99-4d8d-be18-8885e409107c"
      },
      "execution_count": 23,
      "outputs": [
        {
          "output_type": "stream",
          "name": "stdout",
          "text": [
            "+----+---+-----------------+\n",
            "|year| br|max_num_accidents|\n",
            "+----+---+-----------------+\n",
            "|2017|101|            14832|\n",
            "|2018|101|            11505|\n",
            "|2019|101|            11348|\n",
            "|2020|101|            10563|\n",
            "|2021|101|             5454|\n",
            "+----+---+-----------------+\n",
            "\n"
          ]
        }
      ]
    },
    {
      "cell_type": "markdown",
      "source": [
        "## Extended Data Analysis\n",
        "\n",
        "This section intends to understand how different attributes in the dataset are related with the death rate. Furtheremore, the conclusions of it will be used to determine which atributes can be used to create a classification model."
      ],
      "metadata": {
        "id": "nvuNrBmC6WK9"
      }
    },
    {
      "cell_type": "markdown",
      "source": [
        "### People attributes"
      ],
      "metadata": {
        "id": "Z6eE28sf7u_W"
      }
    },
    {
      "cell_type": "code",
      "source": [
        "df_people.printSchema()"
      ],
      "metadata": {
        "colab": {
          "base_uri": "https://localhost:8080/"
        },
        "id": "1OAb16di8QiR",
        "outputId": "fa10e6a6-8660-4d0e-a633-98b06624f880"
      },
      "execution_count": 24,
      "outputs": [
        {
          "output_type": "stream",
          "name": "stdout",
          "text": [
            "root\n",
            " |-- pesid: integer (nullable = true)\n",
            " |-- tipo_envolvido: string (nullable = true)\n",
            " |-- estado_fisico: string (nullable = true)\n",
            " |-- idade: double (nullable = true)\n",
            " |-- sexo: string (nullable = true)\n",
            "\n"
          ]
        }
      ]
    },
    {
      "cell_type": "markdown",
      "source": [
        "#### People type\n",
        "\n",
        "Pedrestrians are more likely to die on traffic accidents."
      ],
      "metadata": {
        "id": "87Cc2c6dALkE"
      }
    },
    {
      "cell_type": "code",
      "source": [
        "people_type_df = df_accidents.join(df_people, df_accidents.pesid == df_people.pesid) \\\n",
        "                         .withColumn(\"is_dead\",\n",
        "                                     when(col(\"estado_fisico\") == \"Óbito\", 1). \\\n",
        "                                     otherwise(0)) \\\n",
        "                         .groupBy(\"tipo_envolvido\") \\\n",
        "                         .agg(sum(\"is_dead\").alias(\"num_dead_people_in_accidents\"),\n",
        "                              count(\"id\").alias(\"num_people_in_accidents\")) \\\n",
        "                         .withColumn(\"death_rate\",\n",
        "                                      col(\"num_dead_people_in_accidents\") / col(\"num_people_in_accidents\") * 100)\n",
        "\n",
        "people_type_df.show()"
      ],
      "metadata": {
        "colab": {
          "base_uri": "https://localhost:8080/"
        },
        "id": "wVRaAgg68Xg6",
        "outputId": "6c1b955c-1b69-477b-8f5a-8aaa70e410de"
      },
      "execution_count": 25,
      "outputs": [
        {
          "output_type": "stream",
          "name": "stdout",
          "text": [
            "+--------------+----------------------------+-----------------------+--------------------+\n",
            "|tipo_envolvido|num_dead_people_in_accidents|num_people_in_accidents|          death_rate|\n",
            "+--------------+----------------------------+-----------------------+--------------------+\n",
            "| Não Informado|                           0|                      5|                 0.0|\n",
            "|    Passageiro|                        5827|                 192952|   3.019922053153116|\n",
            "|    Testemunha|                           1|                  15057|0.006641429235571...|\n",
            "|      Pedestre|                        4071|                  16005|   25.43580131208997|\n",
            "|      Condutor|                       14692|                 525851|  2.7939473348914428|\n",
            "|     Cavaleiro|                          19|                    178|  10.674157303370785|\n",
            "+--------------+----------------------------+-----------------------+--------------------+\n",
            "\n"
          ]
        }
      ]
    },
    {
      "cell_type": "markdown",
      "source": [
        "#### Gender\n",
        "\n",
        "Men dying in traffic accidents are 36% more common."
      ],
      "metadata": {
        "id": "w_JRYJYiCy4h"
      }
    },
    {
      "cell_type": "code",
      "source": [
        "gender_df = df_accidents.join(df_people, df_accidents.pesid == df_people.pesid) \\\n",
        "                         .withColumn(\"is_dead\",\n",
        "                                     when(col(\"estado_fisico\") == \"Óbito\", 1). \\\n",
        "                                     otherwise(0)) \\\n",
        "                         .groupBy(\"sexo\") \\\n",
        "                         .agg(sum(\"is_dead\").alias(\"num_dead_people_in_accidents\"),\n",
        "                              count(\"id\").alias(\"num_people_in_accidents\")) \\\n",
        "                         .withColumn(\"death_rate\",\n",
        "                                      col(\"num_dead_people_in_accidents\") / col(\"num_people_in_accidents\") * 100)\n",
        "\n",
        "gender_df.show(50)"
      ],
      "metadata": {
        "colab": {
          "base_uri": "https://localhost:8080/"
        },
        "id": "cQ1aSh9rBG6e",
        "outputId": "717f8897-0e8f-4204-867e-9d6c39ff82e9"
      },
      "execution_count": 26,
      "outputs": [
        {
          "output_type": "stream",
          "name": "stdout",
          "text": [
            "+-------------+----------------------------+-----------------------+-------------------+\n",
            "|         sexo|num_dead_people_in_accidents|num_people_in_accidents|         death_rate|\n",
            "+-------------+----------------------------+-----------------------+-------------------+\n",
            "|     Ignorado|                          63|                   4375|               1.44|\n",
            "|Não Informado|                          75|                  45255|0.16572754391779915|\n",
            "|     Feminino|                        4479|                 164319| 2.7257955562046994|\n",
            "|    Masculino|                       19993|                 536099| 3.7293484971992115|\n",
            "+-------------+----------------------------+-----------------------+-------------------+\n",
            "\n"
          ]
        }
      ]
    },
    {
      "cell_type": "markdown",
      "source": [
        "### Vehicles attributes"
      ],
      "metadata": {
        "id": "rvjKEbG5DZbf"
      }
    },
    {
      "cell_type": "code",
      "source": [
        "df_vehicles.printSchema()"
      ],
      "metadata": {
        "colab": {
          "base_uri": "https://localhost:8080/"
        },
        "id": "OcKdDBTfQJoB",
        "outputId": "77d0b78f-ad9d-4db5-f8c1-ddb8cddf553c"
      },
      "execution_count": 27,
      "outputs": [
        {
          "output_type": "stream",
          "name": "stdout",
          "text": [
            "root\n",
            " |-- id_veiculo: integer (nullable = true)\n",
            " |-- tipo_veiculo: string (nullable = true)\n",
            " |-- marca: string (nullable = true)\n",
            " |-- ano_fabricacao_veiculo: integer (nullable = true)\n",
            "\n"
          ]
        }
      ]
    },
    {
      "cell_type": "markdown",
      "source": [
        "#### Vehicle type\n",
        "\n",
        "There are some vehicles that are significantly more likely to heve dead people involved. For exdample, motorcycles are 77% more likely to have dead people involved in accidents, when compared to cars."
      ],
      "metadata": {
        "id": "mHo9aQb7SLui"
      }
    },
    {
      "cell_type": "code",
      "source": [
        "vehicle_type_df = df_accidents.join(df_people, df_accidents.pesid == df_people.pesid) \\\n",
        "                         .join(df_vehicles, df_accidents.id_veiculo == df_vehicles.id_veiculo) \\\n",
        "                         .withColumn(\"is_dead\",\n",
        "                                     when(col(\"estado_fisico\") == \"Óbito\", 1). \\\n",
        "                                     otherwise(0)) \\\n",
        "                         .groupBy(\"tipo_veiculo\") \\\n",
        "                         .agg(sum(\"is_dead\").alias(\"num_dead_people_in_accidents\"),\n",
        "                              count(\"id\").alias(\"num_people_in_accidents\")) \\\n",
        "                         .withColumn(\"death_rate\",\n",
        "                                      col(\"num_dead_people_in_accidents\") / col(\"num_people_in_accidents\") * 100) \\\n",
        "                         .orderBy(\"death_rate\", ascending=False)\n",
        "\n",
        "vehicle_type_df.show()"
      ],
      "metadata": {
        "colab": {
          "base_uri": "https://localhost:8080/"
        },
        "id": "QBikJCkoQShn",
        "outputId": "fa2839ff-5a51-486a-ed8a-97ec73244efc"
      },
      "execution_count": 29,
      "outputs": [
        {
          "output_type": "stream",
          "name": "stdout",
          "text": [
            "+----------------+----------------------------+-----------------------+------------------+\n",
            "|    tipo_veiculo|num_dead_people_in_accidents|num_people_in_accidents|        death_rate|\n",
            "+----------------+----------------------------+-----------------------+------------------+\n",
            "|     Quadriciclo|                           2|                      9| 22.22222222222222|\n",
            "|          Outros|                         521|                   3085|16.888168557536467|\n",
            "|       Bicicleta|                         943|                   9521| 9.904421804432308|\n",
            "|    Carro de mão|                           3|                     32|             9.375|\n",
            "|    Trator misto|                           1|                     15| 6.666666666666667|\n",
            "|      Ciclomotor|                         134|                   2092| 6.405353728489484|\n",
            "|     Semireboque|                          67|                   1204| 5.564784053156146|\n",
            "|Carroça-charrete|                          20|                    388| 5.154639175257731|\n",
            "|         Reboque|                          10|                    199| 5.025125628140704|\n",
            "|     Motocicleta|                        6689|                 138032|4.8459777442911784|\n",
            "| Trator de rodas|                          16|                    331| 4.833836858006042|\n",
            "|        Caminhão|                        1977|                  55324| 3.573494324343865|\n",
            "|        Motoneta|                         462|                  15876|  2.91005291005291|\n",
            "|    Micro-ônibus|                         179|                   6448|2.7760545905707192|\n",
            "|       Automóvel|                        9120|                 333966| 2.730816909505758|\n",
            "|     Caminhonete|                        1823|                  67691|2.6931202080040184|\n",
            "| Caminhão-trator|                        1566|                  61939|2.5282939666446023|\n",
            "|       Camioneta|                         415|                  19038|2.1798508246664565|\n",
            "|   Não Informado|                           2|                     93|2.1505376344086025|\n",
            "|      Utilitário|                         173|                   8608|2.0097583643122676|\n",
            "+----------------+----------------------------+-----------------------+------------------+\n",
            "only showing top 20 rows\n",
            "\n"
          ]
        }
      ]
    },
    {
      "cell_type": "markdown",
      "source": [
        "### Accidents attributes"
      ],
      "metadata": {
        "id": "G3C_M81HSg14"
      }
    },
    {
      "cell_type": "code",
      "source": [
        "df_accidents.printSchema()"
      ],
      "metadata": {
        "colab": {
          "base_uri": "https://localhost:8080/"
        },
        "id": "kwDJTg86Sju0",
        "outputId": "7556503a-d1ae-4255-fd33-b63df26903e9"
      },
      "execution_count": 30,
      "outputs": [
        {
          "output_type": "stream",
          "name": "stdout",
          "text": [
            "root\n",
            " |-- id: integer (nullable = true)\n",
            " |-- data_inversa: date (nullable = true)\n",
            " |-- dia_semana: string (nullable = true)\n",
            " |-- horario: timestamp (nullable = true)\n",
            " |-- uf: string (nullable = true)\n",
            " |-- br: integer (nullable = true)\n",
            " |-- km: double (nullable = true)\n",
            " |-- municipio: string (nullable = true)\n",
            " |-- causa_acidente: string (nullable = true)\n",
            " |-- tipo_acidente: string (nullable = true)\n",
            " |-- classificacao_acidente: string (nullable = true)\n",
            " |-- fase_dia: string (nullable = true)\n",
            " |-- sentido_via: string (nullable = true)\n",
            " |-- condicao_metereologica: string (nullable = true)\n",
            " |-- tipo_pista: string (nullable = true)\n",
            " |-- tracado_via: string (nullable = true)\n",
            " |-- uso_solo: string (nullable = true)\n",
            " |-- pesid: integer (nullable = true)\n",
            " |-- id_veiculo: integer (nullable = true)\n",
            "\n"
          ]
        }
      ]
    },
    {
      "cell_type": "markdown",
      "source": [
        "#### Federal Unit\n",
        "\n",
        "Regarding the federal units death rate range is wide varying from 1.74% to 7.26%."
      ],
      "metadata": {
        "id": "mihY68zIeWuf"
      }
    },
    {
      "cell_type": "code",
      "source": [
        "federal_unit_df = df_accidents.join(df_people, df_accidents.pesid == df_people.pesid) \\\n",
        "                         .withColumn(\"is_dead\",\n",
        "                                     when(col(\"estado_fisico\") == \"Óbito\", 1). \\\n",
        "                                     otherwise(0)) \\\n",
        "                         .groupBy(\"uf\") \\\n",
        "                         .agg(sum(\"is_dead\").alias(\"num_dead_people_in_accidents\"),\n",
        "                              count(\"id\").alias(\"num_people_in_accidents\")) \\\n",
        "                         .withColumn(\"death_rate\",\n",
        "                                      col(\"num_dead_people_in_accidents\") / col(\"num_people_in_accidents\") * 100) \\\n",
        "                         .orderBy(\"death_rate\", ascending=False)\n",
        "\n",
        "federal_unit_df.show(50)"
      ],
      "metadata": {
        "colab": {
          "base_uri": "https://localhost:8080/"
        },
        "id": "fwxrVprWSp7r",
        "outputId": "26cd617f-f057-4790-ca02-3a60702787ae"
      },
      "execution_count": 40,
      "outputs": [
        {
          "output_type": "stream",
          "name": "stdout",
          "text": [
            "+---+----------------------------+-----------------------+------------------+\n",
            "| uf|num_dead_people_in_accidents|num_people_in_accidents|        death_rate|\n",
            "+---+----------------------------+-----------------------+------------------+\n",
            "| MA|                        1022|                  14081| 7.258007243803707|\n",
            "| AL|                         418|                   7228| 5.783065855008301|\n",
            "| TO|                         380|                   6718| 5.656445370646026|\n",
            "| BA|                        2284|                  41653| 5.483398554725951|\n",
            "| PA|                         647|                  12424| 5.207662588538313|\n",
            "| PI|                         728|                  14081| 5.170087351750586|\n",
            "| AM|                          70|                   1446| 4.840940525587829|\n",
            "| PE|                        1405|                  29409|4.7774490802135405|\n",
            "| RR|                         133|                   2913| 4.565739787161002|\n",
            "| CE|                         796|                  17964| 4.431084391004231|\n",
            "| MT|                         972|                  25853| 3.759718407921711|\n",
            "| MS|                         595|                  17200|3.4593023255813953|\n",
            "| GO|                        1298|                  37623| 3.450017276665869|\n",
            "| PB|                         557|                  16383| 3.399865714460111|\n",
            "| RN|                         485|                  14380|3.3727399165507648|\n",
            "| SE|                         211|                   6432|3.2804726368159205|\n",
            "| MG|                        3247|                 100693|3.2246531536452383|\n",
            "| AC|                          91|                   2964| 3.070175438596491|\n",
            "| PR|                        2406|                  84137|  2.85962180729049|\n",
            "| AP|                          54|                   1925|2.8051948051948052|\n",
            "| RJ|                        1388|                  49858| 2.783906293874604|\n",
            "| RS|                        1402|                  52429|2.6740925823494632|\n",
            "| ES|                         693|                  28207|2.4568369553656892|\n",
            "| RO|                         416|                  17830|2.3331463825014023|\n",
            "| SP|                         997|                  47779|2.0866908055840434|\n",
            "| SC|                        1719|                  87199|1.9713528824871847|\n",
            "| DF|                         196|                  11239| 1.743927395675772|\n",
            "+---+----------------------------+-----------------------+------------------+\n",
            "\n"
          ]
        }
      ]
    },
    {
      "cell_type": "markdown",
      "source": [
        "#### Accident type\n",
        "\n",
        "Hitting pedestrians and frontal colision have significantly higher death rates when copared to other accident types."
      ],
      "metadata": {
        "id": "PfoYwqYletDr"
      }
    },
    {
      "cell_type": "code",
      "source": [
        "accident_type_df = df_accidents.join(df_people, df_accidents.pesid == df_people.pesid) \\\n",
        "                         .withColumn(\"is_dead\",\n",
        "                                     when(col(\"estado_fisico\") == \"Óbito\", 1). \\\n",
        "                                     otherwise(0)) \\\n",
        "                         .groupBy(\"tipo_acidente\") \\\n",
        "                         .agg(sum(\"is_dead\").alias(\"num_dead_people_in_accidents\"),\n",
        "                              count(\"id\").alias(\"num_people_in_accidents\")) \\\n",
        "                         .withColumn(\"death_rate\",\n",
        "                                      col(\"num_dead_people_in_accidents\") / col(\"num_people_in_accidents\") * 100) \\\n",
        "                         .orderBy(\"death_rate\", ascending=False)\n",
        "\n",
        "accident_type_df.show(50, truncate=False)"
      ],
      "metadata": {
        "colab": {
          "base_uri": "https://localhost:8080/"
        },
        "id": "jnbFfXR9bn-R",
        "outputId": "a17160f7-a032-4d92-ef68-8e745e984aa4"
      },
      "execution_count": 42,
      "outputs": [
        {
          "output_type": "stream",
          "name": "stdout",
          "text": [
            "+-------------------------------+----------------------------+-----------------------+-------------------+\n",
            "|tipo_acidente                  |num_dead_people_in_accidents|num_people_in_accidents|death_rate         |\n",
            "+-------------------------------+----------------------------+-----------------------+-------------------+\n",
            "|Atropelamento de Pedestre      |4140                        |34997                  |11.829585393033689 |\n",
            "|Colisão frontal                |7504                        |69618                  |10.77882156913442  |\n",
            "|Colisão com objeto             |154                         |4112                   |3.745136186770428  |\n",
            "|Atropelamento de Animal        |361                         |10850                  |3.3271889400921655 |\n",
            "|Colisão lateral sentido oposto |71                          |2177                   |3.261368856224162  |\n",
            "|Eventos atípicos               |8                           |251                    |3.187250996015936  |\n",
            "|Colisão com objeto estático    |1129                        |36829                  |3.0655190203372342 |\n",
            "|Saída de leito carroçável      |2851                        |95371                  |2.98937832255088   |\n",
            "|Tombamento                     |994                         |36226                  |2.7438856070225803 |\n",
            "|Colisão com objeto em movimento|94                          |3892                   |2.4152106885919835 |\n",
            "|Capotamento                    |603                         |25453                  |2.3690724079676264 |\n",
            "|Queda de ocupante de veículo   |431                         |20305                  |2.12262989411475   |\n",
            "|Colisão transversal            |2071                        |105800                 |1.957466918714556  |\n",
            "|Derramamento de carga          |32                          |1705                   |1.8768328445747802 |\n",
            "|Colisão traseira               |2604                        |170455                 |1.5276759261975301 |\n",
            "|Colisão lateral                |1343                        |95430                  |1.4073142617625485 |\n",
            "|Danos eventuais                |22                          |1816                   |1.2114537444933922 |\n",
            "|Colisão lateral mesmo sentido  |74                          |6290                   |1.1764705882352942 |\n",
            "|Engavetamento                  |116                         |21940                  |0.528714676390155  |\n",
            "|Incêndio                       |8                           |6531                   |0.12249272699433472|\n",
            "+-------------------------------+----------------------------+-----------------------+-------------------+\n",
            "\n"
          ]
        }
      ]
    },
    {
      "cell_type": "markdown",
      "source": [
        "#### Phase day\n",
        "\n",
        "Deaths are more common in accidents during dawn or night."
      ],
      "metadata": {
        "id": "9zhP5Inqe7PE"
      }
    },
    {
      "cell_type": "code",
      "source": [
        "day_phase_df = df_accidents.join(df_people, df_accidents.pesid == df_people.pesid) \\\n",
        "                         .withColumn(\"is_dead\",\n",
        "                                     when(col(\"estado_fisico\") == \"Óbito\", 1). \\\n",
        "                                     otherwise(0)) \\\n",
        "                         .groupBy(\"fase_dia\") \\\n",
        "                         .agg(sum(\"is_dead\").alias(\"num_dead_people_in_accidents\"),\n",
        "                              count(\"id\").alias(\"num_people_in_accidents\")) \\\n",
        "                         .withColumn(\"death_rate\",\n",
        "                                      col(\"num_dead_people_in_accidents\") / col(\"num_people_in_accidents\") * 100) \\\n",
        "                         .orderBy(\"death_rate\", ascending=False)\n",
        "\n",
        "day_phase_df.show()"
      ],
      "metadata": {
        "colab": {
          "base_uri": "https://localhost:8080/"
        },
        "id": "YhIaQPpYcF9Y",
        "outputId": "fe2b94ab-fd07-43c5-df4e-5db0438a2474"
      },
      "execution_count": 44,
      "outputs": [
        {
          "output_type": "stream",
          "name": "stdout",
          "text": [
            "+-----------+----------------------------+-----------------------+-----------------+\n",
            "|   fase_dia|num_dead_people_in_accidents|num_people_in_accidents|       death_rate|\n",
            "+-----------+----------------------------+-----------------------+-----------------+\n",
            "|  Amanhecer|                        1740|                  34836|4.994832931450223|\n",
            "|Plena Noite|                       11940|                 253485|4.710337889815965|\n",
            "|  Anoitecer|                        1256|                  43797|2.867776331712218|\n",
            "|  Pleno dia|                        9674|                 417930|2.314741703156031|\n",
            "+-----------+----------------------------+-----------------------+-----------------+\n",
            "\n"
          ]
        }
      ]
    },
    {
      "cell_type": "markdown",
      "source": [
        "#### Wheather condition\n",
        "\n",
        "Deaths are significantly more common on accidents with a foggy weather."
      ],
      "metadata": {
        "id": "AyHUNCNNffaK"
      }
    },
    {
      "cell_type": "code",
      "source": [
        "weather_df = df_accidents.join(df_people, df_accidents.pesid == df_people.pesid) \\\n",
        "                         .withColumn(\"is_dead\",\n",
        "                                     when(col(\"estado_fisico\") == \"Óbito\", 1). \\\n",
        "                                     otherwise(0)) \\\n",
        "                         .groupBy(\"condicao_metereologica\") \\\n",
        "                         .agg(sum(\"is_dead\").alias(\"num_dead_people_in_accidents\"),\n",
        "                              count(\"id\").alias(\"num_people_in_accidents\")) \\\n",
        "                         .withColumn(\"death_rate\",\n",
        "                                      col(\"num_dead_people_in_accidents\") / col(\"num_people_in_accidents\") * 100) \\\n",
        "                         .orderBy(\"death_rate\", ascending=False)\n",
        "\n",
        "weather_df.show()"
      ],
      "metadata": {
        "colab": {
          "base_uri": "https://localhost:8080/"
        },
        "id": "13YsWzDoc0Yn",
        "outputId": "1b583a2a-bc73-48dc-af94-8cb2f902c4ca"
      },
      "execution_count": 45,
      "outputs": [
        {
          "output_type": "stream",
          "name": "stdout",
          "text": [
            "+----------------------+----------------------------+-----------------------+------------------+\n",
            "|condicao_metereologica|num_dead_people_in_accidents|num_people_in_accidents|        death_rate|\n",
            "+----------------------+----------------------------+-----------------------+------------------+\n",
            "|               Granizo|                           1|                     16|              6.25|\n",
            "|      Nevoeiro/Neblina|                         362|                   6671| 5.426472792684755|\n",
            "|              Ignorado|                         496|                   9971| 4.974425834921272|\n",
            "|                 Vento|                          59|                   1490|3.9597315436241614|\n",
            "|             Céu Claro|                       14764|                 428078|3.4489041716696494|\n",
            "|               Nublado|                        4162|                 130085|3.1994465157397087|\n",
            "|                 Chuva|                        2693|                  89703| 3.002129248743074|\n",
            "|        Garoa/Chuvisco|                         700|                  25264|2.7707409753008236|\n",
            "|                   Sol|                        1373|                  58763|  2.33650426288651|\n",
            "|                  Neve|                           0|                      7|               0.0|\n",
            "+----------------------+----------------------------+-----------------------+------------------+\n",
            "\n"
          ]
        }
      ]
    }
  ]
}